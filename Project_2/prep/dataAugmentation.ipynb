{
 "cells": [
  {
   "cell_type": "code",
   "execution_count": null,
   "metadata": {},
   "outputs": [],
   "source": [
    "# Imports\n",
    "import os\n",
    "from PIL import Image, ImageOps, ImageEnhance, ImageFilter\n",
    "import random\n",
    "import numpy as np"
   ]
  },
  {
   "cell_type": "code",
   "execution_count": null,
   "metadata": {},
   "outputs": [],
   "source": [
    "# Variables\n",
    "input_folder = \"./images\"\n",
    "output_folder = \"./augmented_images\"\n",
    "\n",
    "rotate_angle = (1,270)\n",
    "scale_range = (0.75,1.25)\n",
    "max_translation=(20, 20)\n",
    "brightness_range=(0.75, 1.25)\n",
    "contrast_range=(0.75, 1.25)\n",
    "color_range=(0.75, 1.25)\n",
    "mean = 50\n",
    "sigma = 25\n",
    "blur_radius_range = (1, 5)\n",
    "\n",
    "\n",
    "images_by_label = {}"
   ]
  },
  {
   "cell_type": "code",
   "execution_count": 104,
   "metadata": {},
   "outputs": [
    {
     "name": "stdout",
     "output_type": "stream",
     "text": [
      "Loaded 40 images for label 'Paper'.\n",
      "Loaded 54 images for label 'Rock'.\n",
      "Loaded 39 images for label 'Scissor'.\n"
     ]
    }
   ],
   "source": [
    "# Load the original dataset\n",
    "\n",
    "# Traverse the folder\n",
    "for class_name in os.listdir(input_folder):\n",
    "    class_path = os.path.join(input_folder, class_name)\n",
    "    if not os.path.isdir(class_path):\n",
    "        continue  # Skip if not a directory\n",
    "\n",
    "    # Initialize list for the class if not already present\n",
    "    if class_name not in images_by_label:\n",
    "        images_by_label[class_name] = []\n",
    "\n",
    "    # Traverse images in the class folder\n",
    "    for file_name in os.listdir(class_path):\n",
    "        if file_name.endswith(('.png', '.jpg', '.jpeg')):  # Check for valid image extensions\n",
    "            file_path = os.path.join(class_path, file_name)\n",
    "\n",
    "            # Load the image\n",
    "            image = Image.open(file_path)\n",
    "\n",
    "            # Append the image to the corresponding label's list\n",
    "            images_by_label[class_name].append(image)\n",
    "\n",
    "# Print summary\n",
    "for label, images in images_by_label.items():\n",
    "    print(f\"Loaded {len(images)} images for label '{label}'.\")\n"
   ]
  },
  {
   "cell_type": "code",
   "execution_count": 105,
   "metadata": {},
   "outputs": [],
   "source": [
    "# Create the output folder\n",
    "os.makedirs(output_folder, exist_ok=True)"
   ]
  },
  {
   "cell_type": "code",
   "execution_count": 80,
   "metadata": {},
   "outputs": [
    {
     "name": "stdout",
     "output_type": "stream",
     "text": [
      "Randomly flipped images have been saved in './augmented_images'.\n"
     ]
    }
   ],
   "source": [
    "# Flip images\n",
    "for label, images in images_by_label.items():\n",
    "    # Create a subdirectory for the label in the output folder\n",
    "    label_output_folder = os.path.join(output_folder, label)\n",
    "    os.makedirs(label_output_folder, exist_ok=True)\n",
    "\n",
    "    for idx, image in enumerate(images):\n",
    "        flip_type = random.choice([\"horizontal\", \"vertical\"])\n",
    "        flipped_image = None\n",
    "        if flip_type == \"horizontal\":\n",
    "            flipped_image = ImageOps.mirror(image)   \n",
    "        if flip_type == \"vertical\":\n",
    "            flipped_image = ImageOps.flip(image)\n",
    "\n",
    "        output_file_name = f\"aug_flip_{idx}.jpg\"\n",
    "        output_file_path = os.path.join(label_output_folder, output_file_name) \n",
    "        flipped_image.save(output_file_path)\n",
    "        \n",
    "print(f\"Randomly flipped images have been saved in '{output_folder}'.\")        "
   ]
  },
  {
   "cell_type": "code",
   "execution_count": null,
   "metadata": {},
   "outputs": [
    {
     "name": "stdout",
     "output_type": "stream",
     "text": [
      "Randomly rotated images have been saved in './augmented_images'.\n"
     ]
    }
   ],
   "source": [
    "# Rotate images\n",
    "for label, images in images_by_label.items():\n",
    "    # Create a subdirectory for the label in the output folder\n",
    "    label_output_folder = os.path.join(output_folder, label)\n",
    "    os.makedirs(label_output_folder, exist_ok=True)\n",
    "\n",
    "    for idx, image in enumerate(images):\n",
    "        angle = random.randint(*rotate_angle)\n",
    "        rotated_image = image.rotate(angle, expand=True)\n",
    "\n",
    "        output_file_name = f\"aug_rotate_{idx}.jpg\"\n",
    "        output_file_path = os.path.join(label_output_folder, output_file_name)\n",
    "        rotated_image.save(output_file_path)\n",
    "\n",
    "print(f\"Randomly rotated images have been saved in '{output_folder}'.\")"
   ]
  },
  {
   "cell_type": "code",
   "execution_count": 90,
   "metadata": {},
   "outputs": [
    {
     "name": "stdout",
     "output_type": "stream",
     "text": [
      "Randomly scaled images have been saved in './augmented_images'.\n"
     ]
    }
   ],
   "source": [
    "# Scale images\n",
    "for label, images in images_by_label.items():\n",
    "    # Create a subdirectory for the label in the output folder\n",
    "    label_output_folder = os.path.join(output_folder, label)\n",
    "    os.makedirs(label_output_folder, exist_ok=True)\n",
    "\n",
    "    for idx, image in enumerate(images):\n",
    "        scale_factor = random.uniform(*scale_range)\n",
    "        original_width, original_height = image.size\n",
    "        new_width = int(original_width * scale_factor)\n",
    "        new_heigth = int(original_height * scale_factor)\n",
    "\n",
    "        scaled_image = image.resize((new_width, new_heigth), Image.Resampling.LANCZOS)\n",
    "\n",
    "        # Center the scaled image in a canvas of the original size\n",
    "        scaled_image = ImageOps.fit(scaled_image, (original_width, original_height), method=Image.Resampling.LANCZOS, centering=(0.5, 0.5))\n",
    "\n",
    "        output_file_name = f\"aug_scale_{idx}.jpg\"\n",
    "        output_file_path = os.path.join(label_output_folder, output_file_name)\n",
    "        scaled_image.save(output_file_path)\n",
    "\n",
    "print(f\"Randomly scaled images have been saved in '{output_folder}'.\")"
   ]
  },
  {
   "cell_type": "code",
   "execution_count": null,
   "metadata": {},
   "outputs": [
    {
     "name": "stdout",
     "output_type": "stream",
     "text": [
      "Randomly translated images have been saved in './augmented_images'.\n"
     ]
    }
   ],
   "source": [
    "# Translate images (x or y direction)\n",
    "for label, images in images_by_label.items():\n",
    "    # Create a subdirectory for the label in the output folder\n",
    "    label_output_folder = os.path.join(output_folder, label)\n",
    "    os.makedirs(label_output_folder, exist_ok=True)\n",
    "\n",
    "    for idx, image in enumerate(images):\n",
    "        max_x, max_y = max_translation\n",
    "        tx = random.randint(-max_x, max_x)  # Random translation along x-axis\n",
    "        ty = random.randint(-max_y, max_y)  # Random translation along y-axis\n",
    "\n",
    "        # Create a translation matrix\n",
    "        translation_matrix = (1, 0, tx, 0, 1, ty)\n",
    "\n",
    "        # Apply the transformation\n",
    "        translated_image = image.transform(\n",
    "            image.size, Image.AFFINE, translation_matrix, resample=Image.Resampling.BICUBIC\n",
    "        )\n",
    "\n",
    "        output_file_name = f\"aug_transl_{idx}.jpg\"\n",
    "        output_file_path = os.path.join(label_output_folder, output_file_name)\n",
    "        translated_image.save(output_file_path)\n",
    "\n",
    "print(f\"Randomly translated images have been saved in '{output_folder}'.\")"
   ]
  },
  {
   "cell_type": "code",
   "execution_count": 91,
   "metadata": {},
   "outputs": [
    {
     "ename": "KeyboardInterrupt",
     "evalue": "",
     "output_type": "error",
     "traceback": [
      "\u001b[1;31m---------------------------------------------------------------------------\u001b[0m",
      "\u001b[1;31mKeyboardInterrupt\u001b[0m                         Traceback (most recent call last)",
      "Cell \u001b[1;32mIn[91], line 15\u001b[0m\n\u001b[0;32m     12\u001b[0m color_factor \u001b[38;5;241m=\u001b[39m random\u001b[38;5;241m.\u001b[39muniform(\u001b[38;5;241m*\u001b[39mcolor_range)\n\u001b[0;32m     14\u001b[0m \u001b[38;5;66;03m# Apply augmentations to the image\u001b[39;00m\n\u001b[1;32m---> 15\u001b[0m color_jittered_image \u001b[38;5;241m=\u001b[39m \u001b[43mImageEnhance\u001b[49m\u001b[38;5;241;43m.\u001b[39;49m\u001b[43mBrightness\u001b[49m\u001b[43m(\u001b[49m\u001b[43mimage\u001b[49m\u001b[43m)\u001b[49m\u001b[38;5;241;43m.\u001b[39;49m\u001b[43menhance\u001b[49m\u001b[43m(\u001b[49m\u001b[43mbrightness_factor\u001b[49m\u001b[43m)\u001b[49m\n\u001b[0;32m     16\u001b[0m color_jittered_image \u001b[38;5;241m=\u001b[39m ImageEnhance\u001b[38;5;241m.\u001b[39mContrast(color_jittered_image)\u001b[38;5;241m.\u001b[39menhance(contrast_factor)\n\u001b[0;32m     17\u001b[0m color_jittered_image \u001b[38;5;241m=\u001b[39m ImageEnhance\u001b[38;5;241m.\u001b[39mColor(color_jittered_image)\u001b[38;5;241m.\u001b[39menhance(color_factor)\n",
      "File \u001b[1;32mc:\\Users\\Timoy\\anaconda3\\envs\\minor\\Lib\\site-packages\\PIL\\ImageEnhance.py:40\u001b[0m, in \u001b[0;36m_Enhance.enhance\u001b[1;34m(self, factor)\u001b[0m\n\u001b[0;32m     29\u001b[0m \u001b[38;5;28;01mdef\u001b[39;00m \u001b[38;5;21menhance\u001b[39m(\u001b[38;5;28mself\u001b[39m, factor: \u001b[38;5;28mfloat\u001b[39m) \u001b[38;5;241m-\u001b[39m\u001b[38;5;241m>\u001b[39m Image\u001b[38;5;241m.\u001b[39mImage:\n\u001b[0;32m     30\u001b[0m \u001b[38;5;250m    \u001b[39m\u001b[38;5;124;03m\"\"\"\u001b[39;00m\n\u001b[0;32m     31\u001b[0m \u001b[38;5;124;03m    Returns an enhanced image.\u001b[39;00m\n\u001b[0;32m     32\u001b[0m \n\u001b[1;32m   (...)\u001b[0m\n\u001b[0;32m     38\u001b[0m \u001b[38;5;124;03m    :rtype: :py:class:`~PIL.Image.Image`\u001b[39;00m\n\u001b[0;32m     39\u001b[0m \u001b[38;5;124;03m    \"\"\"\u001b[39;00m\n\u001b[1;32m---> 40\u001b[0m     \u001b[38;5;28;01mreturn\u001b[39;00m \u001b[43mImage\u001b[49m\u001b[38;5;241;43m.\u001b[39;49m\u001b[43mblend\u001b[49m\u001b[43m(\u001b[49m\u001b[38;5;28;43mself\u001b[39;49m\u001b[38;5;241;43m.\u001b[39;49m\u001b[43mdegenerate\u001b[49m\u001b[43m,\u001b[49m\u001b[43m \u001b[49m\u001b[38;5;28;43mself\u001b[39;49m\u001b[38;5;241;43m.\u001b[39;49m\u001b[43mimage\u001b[49m\u001b[43m,\u001b[49m\u001b[43m \u001b[49m\u001b[43mfactor\u001b[49m\u001b[43m)\u001b[49m\n",
      "File \u001b[1;32mc:\\Users\\Timoy\\anaconda3\\envs\\minor\\Lib\\site-packages\\PIL\\Image.py:3578\u001b[0m, in \u001b[0;36mblend\u001b[1;34m(im1, im2, alpha)\u001b[0m\n\u001b[0;32m   3576\u001b[0m im1\u001b[38;5;241m.\u001b[39mload()\n\u001b[0;32m   3577\u001b[0m im2\u001b[38;5;241m.\u001b[39mload()\n\u001b[1;32m-> 3578\u001b[0m \u001b[38;5;28;01mreturn\u001b[39;00m \u001b[43mim1\u001b[49m\u001b[38;5;241;43m.\u001b[39;49m\u001b[43m_new\u001b[49m\u001b[43m(\u001b[49m\u001b[43mcore\u001b[49m\u001b[38;5;241;43m.\u001b[39;49m\u001b[43mblend\u001b[49m\u001b[43m(\u001b[49m\u001b[43mim1\u001b[49m\u001b[38;5;241;43m.\u001b[39;49m\u001b[43mim\u001b[49m\u001b[43m,\u001b[49m\u001b[43m \u001b[49m\u001b[43mim2\u001b[49m\u001b[38;5;241;43m.\u001b[39;49m\u001b[43mim\u001b[49m\u001b[43m,\u001b[49m\u001b[43m \u001b[49m\u001b[43malpha\u001b[49m\u001b[43m)\u001b[49m\u001b[43m)\u001b[49m\n",
      "File \u001b[1;32mc:\\Users\\Timoy\\anaconda3\\envs\\minor\\Lib\\site-packages\\PIL\\Image.py:587\u001b[0m, in \u001b[0;36mImage._new\u001b[1;34m(self, im)\u001b[0m\n\u001b[0;32m    583\u001b[0m \u001b[38;5;129m@property\u001b[39m\n\u001b[0;32m    584\u001b[0m \u001b[38;5;28;01mdef\u001b[39;00m \u001b[38;5;21mmode\u001b[39m(\u001b[38;5;28mself\u001b[39m) \u001b[38;5;241m-\u001b[39m\u001b[38;5;241m>\u001b[39m \u001b[38;5;28mstr\u001b[39m:\n\u001b[0;32m    585\u001b[0m     \u001b[38;5;28;01mreturn\u001b[39;00m \u001b[38;5;28mself\u001b[39m\u001b[38;5;241m.\u001b[39m_mode\n\u001b[1;32m--> 587\u001b[0m \u001b[38;5;28;01mdef\u001b[39;00m \u001b[38;5;21m_new\u001b[39m(\u001b[38;5;28mself\u001b[39m, im: core\u001b[38;5;241m.\u001b[39mImagingCore) \u001b[38;5;241m-\u001b[39m\u001b[38;5;241m>\u001b[39m Image:\n\u001b[0;32m    588\u001b[0m     new \u001b[38;5;241m=\u001b[39m Image()\n\u001b[0;32m    589\u001b[0m     new\u001b[38;5;241m.\u001b[39mim \u001b[38;5;241m=\u001b[39m im\n",
      "\u001b[1;31mKeyboardInterrupt\u001b[0m: "
     ]
    }
   ],
   "source": [
    "# Color jittering\n",
    "for label, images in images_by_label.items():\n",
    "    # Create a subdirectory for the label in the output folder\n",
    "    label_output_folder = os.path.join(output_folder, label)\n",
    "    os.makedirs(label_output_folder, exist_ok=True)\n",
    "\n",
    "    # Augment and save each image\n",
    "    for idx, image in enumerate(images):\n",
    "        # Apply color jittering\n",
    "        brightness_factor = random.uniform(*brightness_range)\n",
    "        contrast_factor = random.uniform(*contrast_range)\n",
    "        color_factor = random.uniform(*color_range)\n",
    "\n",
    "        # Apply augmentations to the image\n",
    "        color_jittered_image = ImageEnhance.Brightness(image).enhance(brightness_factor)\n",
    "        color_jittered_image = ImageEnhance.Contrast(color_jittered_image).enhance(contrast_factor)\n",
    "        color_jittered_image = ImageEnhance.Color(color_jittered_image).enhance(color_factor)\n",
    "\n",
    "        # Save the augmented image\n",
    "        output_file_name = f\"aug_cjit_{idx}.jpg\"\n",
    "        output_file_path = os.path.join(label_output_folder, output_file_name)\n",
    "        color_jittered_image.save(output_file_path)\n",
    "\n",
    "print(f\"Color-jittered images have been saved in '{output_folder}'.\")"
   ]
  },
  {
   "cell_type": "code",
   "execution_count": 106,
   "metadata": {},
   "outputs": [
    {
     "ename": "KeyboardInterrupt",
     "evalue": "",
     "output_type": "error",
     "traceback": [
      "\u001b[1;31m---------------------------------------------------------------------------\u001b[0m",
      "\u001b[1;31mKeyboardInterrupt\u001b[0m                         Traceback (most recent call last)",
      "Cell \u001b[1;32mIn[106], line 12\u001b[0m\n\u001b[0;32m      9\u001b[0m image_array \u001b[38;5;241m=\u001b[39m np\u001b[38;5;241m.\u001b[39marray(image)\u001b[38;5;241m.\u001b[39mastype(np\u001b[38;5;241m.\u001b[39mfloat32)\n\u001b[0;32m     11\u001b[0m \u001b[38;5;66;03m# Generate Gaussian noise\u001b[39;00m\n\u001b[1;32m---> 12\u001b[0m noise \u001b[38;5;241m=\u001b[39m \u001b[43mnp\u001b[49m\u001b[38;5;241;43m.\u001b[39;49m\u001b[43mrandom\u001b[49m\u001b[38;5;241;43m.\u001b[39;49m\u001b[43mnormal\u001b[49m\u001b[43m(\u001b[49m\u001b[43mmean\u001b[49m\u001b[43m,\u001b[49m\u001b[43m \u001b[49m\u001b[43msigma\u001b[49m\u001b[43m,\u001b[49m\u001b[43m \u001b[49m\u001b[43mimage_array\u001b[49m\u001b[38;5;241;43m.\u001b[39;49m\u001b[43mshape\u001b[49m\u001b[43m)\u001b[49m\n\u001b[0;32m     14\u001b[0m \u001b[38;5;66;03m# Add the noise and clip values to the valid range [0, 255]\u001b[39;00m\n\u001b[0;32m     15\u001b[0m noisy_image \u001b[38;5;241m=\u001b[39m np\u001b[38;5;241m.\u001b[39mclip(image_array \u001b[38;5;241m+\u001b[39m noise, \u001b[38;5;241m0\u001b[39m, \u001b[38;5;241m255\u001b[39m)\u001b[38;5;241m.\u001b[39mastype(np\u001b[38;5;241m.\u001b[39muint8)\n",
      "\u001b[1;31mKeyboardInterrupt\u001b[0m: "
     ]
    }
   ],
   "source": [
    "# Adding noise\n",
    "for label, images in images_by_label.items():\n",
    "    # Create a subdirectory for the label in the output folder\n",
    "    label_output_folder = os.path.join(output_folder, label)\n",
    "    os.makedirs(label_output_folder, exist_ok=True)\n",
    "\n",
    "    for idx, image in enumerate(images):\n",
    "         # Convert image to NumPy array\n",
    "        image_array = np.array(image).astype(np.float32)\n",
    "\n",
    "        # Generate Gaussian noise\n",
    "        noise = np.random.normal(mean, sigma, image_array.shape)\n",
    "\n",
    "        # Add the noise and clip values to the valid range [0, 255]\n",
    "        noisy_image = np.clip(image_array + noise, 0, 255).astype(np.uint8)\n",
    "\n",
    "        noisy_image = Image.fromarray(noisy_image)\n",
    "\n",
    "        output_file_name = f\"aug_noise_{idx}.jpg\"\n",
    "        output_file_path = os.path.join(label_output_folder, output_file_name)\n",
    "        noisy_image.save(output_file_path)\n",
    "\n",
    "print(f\"Noisy images have been saved in '{output_folder}'.\")"
   ]
  },
  {
   "cell_type": "code",
   "execution_count": null,
   "metadata": {},
   "outputs": [],
   "source": [
    "# Gaussian blur\n",
    "# Process each label and its images\n",
    "for label, images in images_by_label.items():\n",
    "    # Create a subdirectory for the label in the output folder\n",
    "    label_output_folder = os.path.join(output_folder, label)\n",
    "    os.makedirs(label_output_folder, exist_ok=True)\n",
    "\n",
    "    for idx, image in enumerate(images):\n",
    "        # Randomly choose a blur radius\n",
    "        blur_radius = random.uniform(*blur_radius_range)\n",
    "\n",
    "        # Apply Gaussian blur\n",
    "        blurred_image = image.filter(ImageFilter.GaussianBlur(blur_radius))\n",
    "\n",
    "        # Save the augmented image\n",
    "        output_file_name = f\"aug_gblur_{idx}.jpg\"\n",
    "        output_file_path = os.path.join(label_output_folder, output_file_name)\n",
    "        blurred_image.save(output_file_path)\n",
    "\n",
    "        # Log for debugging\n",
    "        print(f\"Applied Gaussian blur to image {idx} in label '{label}' with radius={blur_radius}\")\n",
    "\n",
    "print(f\"Blurred images have been saved in '{output_folder}'.\")\n"
   ]
  }
 ],
 "metadata": {
  "kernelspec": {
   "display_name": "minor",
   "language": "python",
   "name": "python3"
  },
  "language_info": {
   "codemirror_mode": {
    "name": "ipython",
    "version": 3
   },
   "file_extension": ".py",
   "mimetype": "text/x-python",
   "name": "python",
   "nbconvert_exporter": "python",
   "pygments_lexer": "ipython3",
   "version": "3.12.7"
  }
 },
 "nbformat": 4,
 "nbformat_minor": 2
}
