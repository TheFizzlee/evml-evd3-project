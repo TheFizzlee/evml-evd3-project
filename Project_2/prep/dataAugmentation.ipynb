{
 "cells": [
  {
   "cell_type": "code",
   "execution_count": 107,
   "metadata": {},
   "outputs": [],
   "source": [
    "# Imports\n",
    "import os\n",
    "from PIL import Image, ImageOps, ImageEnhance, ImageFilter\n",
    "import random\n",
    "import numpy as np"
   ]
  },
  {
   "cell_type": "code",
   "execution_count": 108,
   "metadata": {},
   "outputs": [],
   "source": [
    "# Variables\n",
    "input_folder = \"./images\"\n",
    "output_folder = \"./augmented_images\"\n",
    "\n",
    "rotate_angle = (1,270)\n",
    "scale_range = (0.75,1.25)\n",
    "max_translation=(20, 20)\n",
    "brightness_range=(0.75, 1.25)\n",
    "contrast_range=(0.75, 1.25)\n",
    "color_range=(0.75, 1.25)\n",
    "mean = 50\n",
    "sigma = 25\n",
    "blur_radius_range = (1, 5)\n",
    "\n",
    "\n",
    "images_by_label = {}"
   ]
  },
  {
   "cell_type": "code",
   "execution_count": 109,
   "metadata": {},
   "outputs": [
    {
     "name": "stdout",
     "output_type": "stream",
     "text": [
      "Loaded 40 images for label 'Paper'.\n",
      "Loaded 54 images for label 'Rock'.\n",
      "Loaded 39 images for label 'Scissor'.\n"
     ]
    }
   ],
   "source": [
    "# Load the original dataset\n",
    "\n",
    "# Traverse the folder\n",
    "for class_name in os.listdir(input_folder):\n",
    "    class_path = os.path.join(input_folder, class_name)\n",
    "    if not os.path.isdir(class_path):\n",
    "        continue  # Skip if not a directory\n",
    "\n",
    "    # Initialize list for the class if not already present\n",
    "    if class_name not in images_by_label:\n",
    "        images_by_label[class_name] = []\n",
    "\n",
    "    # Traverse images in the class folder\n",
    "    for file_name in os.listdir(class_path):\n",
    "        if file_name.endswith(('.png', '.jpg', '.jpeg')):  # Check for valid image extensions\n",
    "            file_path = os.path.join(class_path, file_name)\n",
    "\n",
    "            # Load the image\n",
    "            image = Image.open(file_path)\n",
    "\n",
    "            # Append the image to the corresponding label's list\n",
    "            images_by_label[class_name].append(image)\n",
    "\n",
    "# Print summary\n",
    "for label, images in images_by_label.items():\n",
    "    print(f\"Loaded {len(images)} images for label '{label}'.\")\n"
   ]
  },
  {
   "cell_type": "code",
   "execution_count": 110,
   "metadata": {},
   "outputs": [],
   "source": [
    "# Create the output folder\n",
    "os.makedirs(output_folder, exist_ok=True)"
   ]
  },
  {
   "cell_type": "code",
   "execution_count": 111,
   "metadata": {},
   "outputs": [
    {
     "name": "stdout",
     "output_type": "stream",
     "text": [
      "Randomly flipped images have been saved in './augmented_images'.\n"
     ]
    }
   ],
   "source": [
    "# Flip images\n",
    "for label, images in images_by_label.items():\n",
    "    # Create a subdirectory for the label in the output folder\n",
    "    label_output_folder = os.path.join(output_folder, label)\n",
    "    os.makedirs(label_output_folder, exist_ok=True)\n",
    "\n",
    "    for idx, image in enumerate(images):\n",
    "        flip_type = random.choice([\"horizontal\", \"vertical\"])\n",
    "        flipped_image = None\n",
    "        if flip_type == \"horizontal\":\n",
    "            flipped_image = ImageOps.mirror(image)   \n",
    "        if flip_type == \"vertical\":\n",
    "            flipped_image = ImageOps.flip(image)\n",
    "\n",
    "        output_file_name = f\"aug_flip_{idx}.jpg\"\n",
    "        output_file_path = os.path.join(label_output_folder, output_file_name) \n",
    "        flipped_image.save(output_file_path)\n",
    "        \n",
    "print(f\"Randomly flipped images have been saved in '{output_folder}'.\")        "
   ]
  },
  {
   "cell_type": "code",
   "execution_count": 112,
   "metadata": {},
   "outputs": [
    {
     "name": "stdout",
     "output_type": "stream",
     "text": [
      "Randomly rotated images have been saved in './augmented_images'.\n"
     ]
    }
   ],
   "source": [
    "# Rotate images\n",
    "for label, images in images_by_label.items():\n",
    "    # Create a subdirectory for the label in the output folder\n",
    "    label_output_folder = os.path.join(output_folder, label)\n",
    "    os.makedirs(label_output_folder, exist_ok=True)\n",
    "\n",
    "    for idx, image in enumerate(images):\n",
    "        angle = random.randint(*rotate_angle)\n",
    "        rotated_image = image.rotate(angle, expand=True)\n",
    "\n",
    "        output_file_name = f\"aug_rotate_{idx}.jpg\"\n",
    "        output_file_path = os.path.join(label_output_folder, output_file_name)\n",
    "        rotated_image.save(output_file_path)\n",
    "\n",
    "print(f\"Randomly rotated images have been saved in '{output_folder}'.\")"
   ]
  },
  {
   "cell_type": "code",
   "execution_count": 113,
   "metadata": {},
   "outputs": [
    {
     "name": "stdout",
     "output_type": "stream",
     "text": [
      "Randomly scaled images have been saved in './augmented_images'.\n"
     ]
    }
   ],
   "source": [
    "# Scale images\n",
    "for label, images in images_by_label.items():\n",
    "    # Create a subdirectory for the label in the output folder\n",
    "    label_output_folder = os.path.join(output_folder, label)\n",
    "    os.makedirs(label_output_folder, exist_ok=True)\n",
    "\n",
    "    for idx, image in enumerate(images):\n",
    "        scale_factor = random.uniform(*scale_range)\n",
    "        original_width, original_height = image.size\n",
    "        new_width = int(original_width * scale_factor)\n",
    "        new_heigth = int(original_height * scale_factor)\n",
    "\n",
    "        scaled_image = image.resize((new_width, new_heigth), Image.Resampling.LANCZOS)\n",
    "\n",
    "        # Center the scaled image in a canvas of the original size\n",
    "        scaled_image = ImageOps.fit(scaled_image, (original_width, original_height), method=Image.Resampling.LANCZOS, centering=(0.5, 0.5))\n",
    "\n",
    "        output_file_name = f\"aug_scale_{idx}.jpg\"\n",
    "        output_file_path = os.path.join(label_output_folder, output_file_name)\n",
    "        scaled_image.save(output_file_path)\n",
    "\n",
    "print(f\"Randomly scaled images have been saved in '{output_folder}'.\")"
   ]
  },
  {
   "cell_type": "code",
   "execution_count": 114,
   "metadata": {},
   "outputs": [
    {
     "name": "stdout",
     "output_type": "stream",
     "text": [
      "Randomly translated images have been saved in './augmented_images'.\n"
     ]
    }
   ],
   "source": [
    "# Translate images (x or y direction)\n",
    "for label, images in images_by_label.items():\n",
    "    # Create a subdirectory for the label in the output folder\n",
    "    label_output_folder = os.path.join(output_folder, label)\n",
    "    os.makedirs(label_output_folder, exist_ok=True)\n",
    "\n",
    "    for idx, image in enumerate(images):\n",
    "        max_x, max_y = max_translation\n",
    "        tx = random.randint(-max_x, max_x)  # Random translation along x-axis\n",
    "        ty = random.randint(-max_y, max_y)  # Random translation along y-axis\n",
    "\n",
    "        # Create a translation matrix\n",
    "        translation_matrix = (1, 0, tx, 0, 1, ty)\n",
    "\n",
    "        # Apply the transformation\n",
    "        translated_image = image.transform(\n",
    "            image.size, Image.AFFINE, translation_matrix, resample=Image.Resampling.BICUBIC\n",
    "        )\n",
    "\n",
    "        output_file_name = f\"aug_transl_{idx}.jpg\"\n",
    "        output_file_path = os.path.join(label_output_folder, output_file_name)\n",
    "        translated_image.save(output_file_path)\n",
    "\n",
    "print(f\"Randomly translated images have been saved in '{output_folder}'.\")"
   ]
  },
  {
   "cell_type": "code",
   "execution_count": 115,
   "metadata": {},
   "outputs": [
    {
     "name": "stdout",
     "output_type": "stream",
     "text": [
      "Color-jittered images have been saved in './augmented_images'.\n"
     ]
    }
   ],
   "source": [
    "# Color jittering\n",
    "for label, images in images_by_label.items():\n",
    "    # Create a subdirectory for the label in the output folder\n",
    "    label_output_folder = os.path.join(output_folder, label)\n",
    "    os.makedirs(label_output_folder, exist_ok=True)\n",
    "\n",
    "    # Augment and save each image\n",
    "    for idx, image in enumerate(images):\n",
    "        # Apply color jittering\n",
    "        brightness_factor = random.uniform(*brightness_range)\n",
    "        contrast_factor = random.uniform(*contrast_range)\n",
    "        color_factor = random.uniform(*color_range)\n",
    "\n",
    "        # Apply augmentations to the image\n",
    "        color_jittered_image = ImageEnhance.Brightness(image).enhance(brightness_factor)\n",
    "        color_jittered_image = ImageEnhance.Contrast(color_jittered_image).enhance(contrast_factor)\n",
    "        color_jittered_image = ImageEnhance.Color(color_jittered_image).enhance(color_factor)\n",
    "\n",
    "        # Save the augmented image\n",
    "        output_file_name = f\"aug_cjit_{idx}.jpg\"\n",
    "        output_file_path = os.path.join(label_output_folder, output_file_name)\n",
    "        color_jittered_image.save(output_file_path)\n",
    "\n",
    "print(f\"Color-jittered images have been saved in '{output_folder}'.\")"
   ]
  },
  {
   "cell_type": "code",
   "execution_count": 116,
   "metadata": {},
   "outputs": [
    {
     "name": "stdout",
     "output_type": "stream",
     "text": [
      "Noisy images have been saved in './augmented_images'.\n"
     ]
    }
   ],
   "source": [
    "# Adding noise\n",
    "for label, images in images_by_label.items():\n",
    "    # Create a subdirectory for the label in the output folder\n",
    "    label_output_folder = os.path.join(output_folder, label)\n",
    "    os.makedirs(label_output_folder, exist_ok=True)\n",
    "\n",
    "    for idx, image in enumerate(images):\n",
    "         # Convert image to NumPy array\n",
    "        image_array = np.array(image).astype(np.float32)\n",
    "\n",
    "        # Generate Gaussian noise\n",
    "        noise = np.random.normal(mean, sigma, image_array.shape)\n",
    "\n",
    "        # Add the noise and clip values to the valid range [0, 255]\n",
    "        noisy_image = np.clip(image_array + noise, 0, 255).astype(np.uint8)\n",
    "\n",
    "        noisy_image = Image.fromarray(noisy_image)\n",
    "\n",
    "        output_file_name = f\"aug_noise_{idx}.jpg\"\n",
    "        output_file_path = os.path.join(label_output_folder, output_file_name)\n",
    "        noisy_image.save(output_file_path)\n",
    "\n",
    "print(f\"Noisy images have been saved in '{output_folder}'.\")"
   ]
  },
  {
   "cell_type": "code",
   "execution_count": 117,
   "metadata": {},
   "outputs": [
    {
     "name": "stdout",
     "output_type": "stream",
     "text": [
      "Applied Gaussian blur to image 0 in label 'Paper' with radius=4.639238333378129\n",
      "Applied Gaussian blur to image 1 in label 'Paper' with radius=4.7062329999965105\n",
      "Applied Gaussian blur to image 2 in label 'Paper' with radius=2.6598683806876644\n",
      "Applied Gaussian blur to image 3 in label 'Paper' with radius=1.8237156989709913\n",
      "Applied Gaussian blur to image 4 in label 'Paper' with radius=3.926090860513623\n",
      "Applied Gaussian blur to image 5 in label 'Paper' with radius=3.130356483941224\n",
      "Applied Gaussian blur to image 6 in label 'Paper' with radius=4.688200124685185\n",
      "Applied Gaussian blur to image 7 in label 'Paper' with radius=3.26802321197648\n",
      "Applied Gaussian blur to image 8 in label 'Paper' with radius=2.0070824095347746\n",
      "Applied Gaussian blur to image 9 in label 'Paper' with radius=1.253886945763544\n",
      "Applied Gaussian blur to image 10 in label 'Paper' with radius=1.929554793270022\n",
      "Applied Gaussian blur to image 11 in label 'Paper' with radius=4.620819046275202\n",
      "Applied Gaussian blur to image 12 in label 'Paper' with radius=2.6218322017049225\n",
      "Applied Gaussian blur to image 13 in label 'Paper' with radius=4.851927217464649\n",
      "Applied Gaussian blur to image 14 in label 'Paper' with radius=4.770497839513009\n",
      "Applied Gaussian blur to image 15 in label 'Paper' with radius=1.5620582363276285\n",
      "Applied Gaussian blur to image 16 in label 'Paper' with radius=3.4452415643162153\n",
      "Applied Gaussian blur to image 17 in label 'Paper' with radius=1.8941887594274092\n",
      "Applied Gaussian blur to image 18 in label 'Paper' with radius=2.1473382279722313\n",
      "Applied Gaussian blur to image 19 in label 'Paper' with radius=2.3326584726178052\n",
      "Applied Gaussian blur to image 20 in label 'Paper' with radius=1.6125029738122638\n",
      "Applied Gaussian blur to image 21 in label 'Paper' with radius=2.1871592175350782\n",
      "Applied Gaussian blur to image 22 in label 'Paper' with radius=3.6399964815287915\n",
      "Applied Gaussian blur to image 23 in label 'Paper' with radius=4.024288331126684\n",
      "Applied Gaussian blur to image 24 in label 'Paper' with radius=1.6178879349493251\n",
      "Applied Gaussian blur to image 25 in label 'Paper' with radius=2.1724622522322123\n",
      "Applied Gaussian blur to image 26 in label 'Paper' with radius=1.6332140042484324\n",
      "Applied Gaussian blur to image 27 in label 'Paper' with radius=3.1115001834576406\n",
      "Applied Gaussian blur to image 28 in label 'Paper' with radius=4.184173272350203\n",
      "Applied Gaussian blur to image 29 in label 'Paper' with radius=3.0434385967424964\n",
      "Applied Gaussian blur to image 30 in label 'Paper' with radius=4.280119541190932\n",
      "Applied Gaussian blur to image 31 in label 'Paper' with radius=4.035837376457554\n",
      "Applied Gaussian blur to image 32 in label 'Paper' with radius=3.7734761296763693\n",
      "Applied Gaussian blur to image 33 in label 'Paper' with radius=4.550218272657462\n",
      "Applied Gaussian blur to image 34 in label 'Paper' with radius=1.731839336420478\n",
      "Applied Gaussian blur to image 35 in label 'Paper' with radius=4.113326654430239\n",
      "Applied Gaussian blur to image 36 in label 'Paper' with radius=4.330311890237441\n",
      "Applied Gaussian blur to image 37 in label 'Paper' with radius=4.8489043908763385\n",
      "Applied Gaussian blur to image 38 in label 'Paper' with radius=2.405882700523299\n",
      "Applied Gaussian blur to image 39 in label 'Paper' with radius=4.694522463610223\n",
      "Applied Gaussian blur to image 0 in label 'Rock' with radius=4.571888354790287\n",
      "Applied Gaussian blur to image 1 in label 'Rock' with radius=3.5002732737070854\n",
      "Applied Gaussian blur to image 2 in label 'Rock' with radius=4.533705767699232\n",
      "Applied Gaussian blur to image 3 in label 'Rock' with radius=4.910675171545587\n",
      "Applied Gaussian blur to image 4 in label 'Rock' with radius=4.121482621918799\n",
      "Applied Gaussian blur to image 5 in label 'Rock' with radius=4.5639093607267025\n",
      "Applied Gaussian blur to image 6 in label 'Rock' with radius=4.768586514423891\n",
      "Applied Gaussian blur to image 7 in label 'Rock' with radius=2.3138918051216706\n",
      "Applied Gaussian blur to image 8 in label 'Rock' with radius=3.8249129582992185\n",
      "Applied Gaussian blur to image 9 in label 'Rock' with radius=3.1340942998341093\n",
      "Applied Gaussian blur to image 10 in label 'Rock' with radius=1.1348148613815607\n",
      "Applied Gaussian blur to image 11 in label 'Rock' with radius=4.738924214063921\n",
      "Applied Gaussian blur to image 12 in label 'Rock' with radius=1.880260242200002\n",
      "Applied Gaussian blur to image 13 in label 'Rock' with radius=1.562817420115267\n",
      "Applied Gaussian blur to image 14 in label 'Rock' with radius=4.0684769799547755\n",
      "Applied Gaussian blur to image 15 in label 'Rock' with radius=1.3428892928851655\n",
      "Applied Gaussian blur to image 16 in label 'Rock' with radius=3.96072725393806\n",
      "Applied Gaussian blur to image 17 in label 'Rock' with radius=1.9205599313224115\n",
      "Applied Gaussian blur to image 18 in label 'Rock' with radius=4.015475477719368\n",
      "Applied Gaussian blur to image 19 in label 'Rock' with radius=3.1429159341528066\n",
      "Applied Gaussian blur to image 20 in label 'Rock' with radius=2.222413384336588\n",
      "Applied Gaussian blur to image 21 in label 'Rock' with radius=3.6091783900831307\n",
      "Applied Gaussian blur to image 22 in label 'Rock' with radius=1.5792127602453858\n",
      "Applied Gaussian blur to image 23 in label 'Rock' with radius=2.804719999802596\n",
      "Applied Gaussian blur to image 24 in label 'Rock' with radius=2.1091616198533836\n",
      "Applied Gaussian blur to image 25 in label 'Rock' with radius=4.213628933150671\n",
      "Applied Gaussian blur to image 26 in label 'Rock' with radius=3.5404211639310463\n",
      "Applied Gaussian blur to image 27 in label 'Rock' with radius=1.0833760133881043\n",
      "Applied Gaussian blur to image 28 in label 'Rock' with radius=3.776051987615805\n",
      "Applied Gaussian blur to image 29 in label 'Rock' with radius=3.8544283448647905\n",
      "Applied Gaussian blur to image 30 in label 'Rock' with radius=1.7893773543145444\n",
      "Applied Gaussian blur to image 31 in label 'Rock' with radius=3.873078792875044\n",
      "Applied Gaussian blur to image 32 in label 'Rock' with radius=3.1763879029180067\n",
      "Applied Gaussian blur to image 33 in label 'Rock' with radius=3.9336675318455048\n",
      "Applied Gaussian blur to image 34 in label 'Rock' with radius=2.4801553113509716\n",
      "Applied Gaussian blur to image 35 in label 'Rock' with radius=1.2016810015902801\n",
      "Applied Gaussian blur to image 36 in label 'Rock' with radius=4.713797415486994\n",
      "Applied Gaussian blur to image 37 in label 'Rock' with radius=3.965210561776916\n",
      "Applied Gaussian blur to image 38 in label 'Rock' with radius=1.654117661094538\n",
      "Applied Gaussian blur to image 39 in label 'Rock' with radius=3.4083259500342624\n",
      "Applied Gaussian blur to image 40 in label 'Rock' with radius=4.1403052122127555\n",
      "Applied Gaussian blur to image 41 in label 'Rock' with radius=3.216231242263842\n",
      "Applied Gaussian blur to image 42 in label 'Rock' with radius=1.5647069103398534\n",
      "Applied Gaussian blur to image 43 in label 'Rock' with radius=4.764571053590322\n",
      "Applied Gaussian blur to image 44 in label 'Rock' with radius=1.1323320088097164\n",
      "Applied Gaussian blur to image 45 in label 'Rock' with radius=2.680611536699024\n",
      "Applied Gaussian blur to image 46 in label 'Rock' with radius=1.5388677024844304\n",
      "Applied Gaussian blur to image 47 in label 'Rock' with radius=4.67986506134561\n",
      "Applied Gaussian blur to image 48 in label 'Rock' with radius=3.82266224666957\n",
      "Applied Gaussian blur to image 49 in label 'Rock' with radius=4.486039723676882\n",
      "Applied Gaussian blur to image 50 in label 'Rock' with radius=2.02061561099621\n",
      "Applied Gaussian blur to image 51 in label 'Rock' with radius=4.038865203431895\n",
      "Applied Gaussian blur to image 52 in label 'Rock' with radius=4.3111001126426665\n",
      "Applied Gaussian blur to image 53 in label 'Rock' with radius=3.42784840067003\n",
      "Applied Gaussian blur to image 0 in label 'Scissor' with radius=2.2999509153070017\n",
      "Applied Gaussian blur to image 1 in label 'Scissor' with radius=1.688576831999335\n",
      "Applied Gaussian blur to image 2 in label 'Scissor' with radius=1.0797864135377515\n",
      "Applied Gaussian blur to image 3 in label 'Scissor' with radius=4.071054871067838\n",
      "Applied Gaussian blur to image 4 in label 'Scissor' with radius=4.13959784622911\n",
      "Applied Gaussian blur to image 5 in label 'Scissor' with radius=4.7564785430345395\n",
      "Applied Gaussian blur to image 6 in label 'Scissor' with radius=3.588596248459958\n",
      "Applied Gaussian blur to image 7 in label 'Scissor' with radius=3.50789091759982\n",
      "Applied Gaussian blur to image 8 in label 'Scissor' with radius=1.696153098353772\n",
      "Applied Gaussian blur to image 9 in label 'Scissor' with radius=2.7374546986197146\n",
      "Applied Gaussian blur to image 10 in label 'Scissor' with radius=2.7357780049268325\n",
      "Applied Gaussian blur to image 11 in label 'Scissor' with radius=4.97893380813729\n",
      "Applied Gaussian blur to image 12 in label 'Scissor' with radius=1.536893702927419\n",
      "Applied Gaussian blur to image 13 in label 'Scissor' with radius=2.9253146591468338\n",
      "Applied Gaussian blur to image 14 in label 'Scissor' with radius=2.022832652033454\n",
      "Applied Gaussian blur to image 15 in label 'Scissor' with radius=4.3888359820665634\n",
      "Applied Gaussian blur to image 16 in label 'Scissor' with radius=1.9536375941345527\n",
      "Applied Gaussian blur to image 17 in label 'Scissor' with radius=2.6016654870613345\n",
      "Applied Gaussian blur to image 18 in label 'Scissor' with radius=2.093486991240766\n",
      "Applied Gaussian blur to image 19 in label 'Scissor' with radius=2.244778050725556\n",
      "Applied Gaussian blur to image 20 in label 'Scissor' with radius=2.8036104773237396\n",
      "Applied Gaussian blur to image 21 in label 'Scissor' with radius=2.30823308801835\n",
      "Applied Gaussian blur to image 22 in label 'Scissor' with radius=1.8379350172134439\n",
      "Applied Gaussian blur to image 23 in label 'Scissor' with radius=4.295374240350678\n",
      "Applied Gaussian blur to image 24 in label 'Scissor' with radius=4.9155099044252175\n",
      "Applied Gaussian blur to image 25 in label 'Scissor' with radius=2.7501502384195584\n",
      "Applied Gaussian blur to image 26 in label 'Scissor' with radius=3.448033269361847\n",
      "Applied Gaussian blur to image 27 in label 'Scissor' with radius=4.081342952314772\n",
      "Applied Gaussian blur to image 28 in label 'Scissor' with radius=3.752144187440727\n",
      "Applied Gaussian blur to image 29 in label 'Scissor' with radius=4.050890377216911\n",
      "Applied Gaussian blur to image 30 in label 'Scissor' with radius=1.5906383962464825\n",
      "Applied Gaussian blur to image 31 in label 'Scissor' with radius=4.467993283884243\n",
      "Applied Gaussian blur to image 32 in label 'Scissor' with radius=3.200541959280672\n",
      "Applied Gaussian blur to image 33 in label 'Scissor' with radius=3.545413160260216\n",
      "Applied Gaussian blur to image 34 in label 'Scissor' with radius=1.8352435844673742\n",
      "Applied Gaussian blur to image 35 in label 'Scissor' with radius=1.7040686130710734\n",
      "Applied Gaussian blur to image 36 in label 'Scissor' with radius=4.064506580729217\n",
      "Applied Gaussian blur to image 37 in label 'Scissor' with radius=3.9076533071121773\n",
      "Applied Gaussian blur to image 38 in label 'Scissor' with radius=3.6504032225035377\n",
      "Blurred images have been saved in './augmented_images'.\n"
     ]
    }
   ],
   "source": [
    "# Gaussian blur\n",
    "# Process each label and its images\n",
    "for label, images in images_by_label.items():\n",
    "    # Create a subdirectory for the label in the output folder\n",
    "    label_output_folder = os.path.join(output_folder, label)\n",
    "    os.makedirs(label_output_folder, exist_ok=True)\n",
    "\n",
    "    for idx, image in enumerate(images):\n",
    "        # Randomly choose a blur radius\n",
    "        blur_radius = random.uniform(*blur_radius_range)\n",
    "\n",
    "        # Apply Gaussian blur\n",
    "        blurred_image = image.filter(ImageFilter.GaussianBlur(blur_radius))\n",
    "\n",
    "        # Save the augmented image\n",
    "        output_file_name = f\"aug_gblur_{idx}.jpg\"\n",
    "        output_file_path = os.path.join(label_output_folder, output_file_name)\n",
    "        blurred_image.save(output_file_path)\n",
    "\n",
    "        # Log for debugging\n",
    "        print(f\"Applied Gaussian blur to image {idx} in label '{label}' with radius={blur_radius}\")\n",
    "\n",
    "print(f\"Blurred images have been saved in '{output_folder}'.\")\n"
   ]
  }
 ],
 "metadata": {
  "kernelspec": {
   "display_name": "minor",
   "language": "python",
   "name": "python3"
  },
  "language_info": {
   "codemirror_mode": {
    "name": "ipython",
    "version": 3
   },
   "file_extension": ".py",
   "mimetype": "text/x-python",
   "name": "python",
   "nbconvert_exporter": "python",
   "pygments_lexer": "ipython3",
   "version": "3.12.7"
  }
 },
 "nbformat": 4,
 "nbformat_minor": 2
}
