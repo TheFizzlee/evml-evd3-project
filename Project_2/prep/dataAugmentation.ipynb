{
 "cells": [
  {
   "cell_type": "code",
   "execution_count": null,
   "metadata": {},
   "outputs": [],
   "source": [
    "# Imports\n",
    "import os\n",
    "from PIL import Image, ImageOps, ImageEnhance\n",
    "import random\n",
    "import numpy as np"
   ]
  },
  {
   "cell_type": "code",
   "execution_count": null,
   "metadata": {},
   "outputs": [],
   "source": [
    "# Variables\n",
    "input_folder = \"./images\"\n",
    "output_folder = \"./augmented_images\"\n",
    "\n",
    "rotate_angle = (1,270)\n",
    "scale_range = (0.75,1.25)\n",
    "max_translation=(20, 20)\n",
    "brightness_range=(0.75, 1.25)\n",
    "contrast_range=(0.75, 1.25)\n",
    "color_range=(0.75, 1.25)\n",
    "mean = 0\n",
    "sigma = 25\n",
    "\n",
    "images_by_label = {}"
   ]
  },
  {
   "cell_type": "code",
   "execution_count": 70,
   "metadata": {},
   "outputs": [
    {
     "name": "stdout",
     "output_type": "stream",
     "text": [
      "Loaded 40 images for label 'Paper'.\n",
      "Loaded 54 images for label 'Rock'.\n",
      "Loaded 39 images for label 'Scissor'.\n"
     ]
    }
   ],
   "source": [
    "# Load the original dataset\n",
    "\n",
    "# Traverse the folder\n",
    "for class_name in os.listdir(input_folder):\n",
    "    class_path = os.path.join(input_folder, class_name)\n",
    "    if not os.path.isdir(class_path):\n",
    "        continue  # Skip if not a directory\n",
    "\n",
    "    # Initialize list for the class if not already present\n",
    "    if class_name not in images_by_label:\n",
    "        images_by_label[class_name] = []\n",
    "\n",
    "    # Traverse images in the class folder\n",
    "    for file_name in os.listdir(class_path):\n",
    "        if file_name.endswith(('.png', '.jpg', '.jpeg')):  # Check for valid image extensions\n",
    "            file_path = os.path.join(class_path, file_name)\n",
    "\n",
    "            # Load the image\n",
    "            image = Image.open(file_path)\n",
    "\n",
    "            # Append the image to the corresponding label's list\n",
    "            images_by_label[class_name].append(image)\n",
    "\n",
    "# Print summary\n",
    "for label, images in images_by_label.items():\n",
    "    print(f\"Loaded {len(images)} images for label '{label}'.\")\n"
   ]
  },
  {
   "cell_type": "code",
   "execution_count": 71,
   "metadata": {},
   "outputs": [],
   "source": [
    "# Create the output folder\n",
    "os.makedirs(output_folder, exist_ok=True)"
   ]
  },
  {
   "cell_type": "code",
   "execution_count": 72,
   "metadata": {},
   "outputs": [
    {
     "name": "stdout",
     "output_type": "stream",
     "text": [
      "Randomly flipped images have been saved in './augmented_images'.\n"
     ]
    }
   ],
   "source": [
    "# Flip images\n",
    "for label, images in images_by_label.items():\n",
    "    # Create a subdirectory for the label in the output folder\n",
    "    label_output_folder = os.path.join(output_folder, label)\n",
    "    os.makedirs(label_output_folder, exist_ok=True)\n",
    "\n",
    "    for idx, image in enumerate(images):\n",
    "        flip_type = random.choice([\"horizontal\", \"vertical\"])\n",
    "        flipped_image = None\n",
    "        if flip_type == \"horizontal\":\n",
    "            flipped_image = ImageOps.mirror(image)   \n",
    "        if flip_type == \"vertical\":\n",
    "            flipped_image = ImageOps.flip(image)\n",
    "\n",
    "        output_file_name = f\"aug_flip_{idx}.jpg\"\n",
    "        output_file_path = os.path.join(label_output_folder, output_file_name) \n",
    "        flipped_image.save(output_file_path)\n",
    "        \n",
    "print(f\"Randomly flipped images have been saved in '{output_folder}'.\")        "
   ]
  },
  {
   "cell_type": "code",
   "execution_count": 73,
   "metadata": {},
   "outputs": [
    {
     "name": "stdout",
     "output_type": "stream",
     "text": [
      "Randomly rotated images have been saved in './augmented_images'.\n"
     ]
    }
   ],
   "source": [
    "# Rotate images\n",
    "for label, images in images_by_label.items():\n",
    "    # Create a subdirectory for the label in the output folder\n",
    "    label_output_folder = os.path.join(output_folder, label)\n",
    "    os.makedirs(label_output_folder, exist_ok=True)\n",
    "\n",
    "    for idx, image in enumerate(images):\n",
    "        angle = random.randint(*rotate_angle)\n",
    "        rotated_image = image.rotate(angle, expand=True)\n",
    "\n",
    "        output_file_name = f\"aug_rot_{idx}.jpg\"\n",
    "        output_file_path = os.path.join(label_output_folder, output_file_name)\n",
    "        rotated_image.save(output_file_path)\n",
    "\n",
    "print(f\"Randomly rotated images have been saved in '{output_folder}'.\")"
   ]
  },
  {
   "cell_type": "code",
   "execution_count": 74,
   "metadata": {},
   "outputs": [
    {
     "name": "stdout",
     "output_type": "stream",
     "text": [
      "Randomly scaled images have been saved in './augmented_images'.\n"
     ]
    }
   ],
   "source": [
    "# Scale images\n",
    "for label, images in images_by_label.items():\n",
    "    # Create a subdirectory for the label in the output folder\n",
    "    label_output_folder = os.path.join(output_folder, label)\n",
    "    os.makedirs(label_output_folder, exist_ok=True)\n",
    "\n",
    "    for idx, image in enumerate(images):\n",
    "        scale_factor = random.uniform(*scale_range)\n",
    "        original_width, original_height = image.size\n",
    "        new_width = int(original_width * scale_factor)\n",
    "        new_heigth = int(original_height * scale_factor)\n",
    "\n",
    "        scaled_image = image.resize((new_width, new_heigth), Image.Resampling.LANCZOS)\n",
    "\n",
    "        output_file_name = f\"aug_sca_{idx}.jpg\"\n",
    "        output_file_path = os.path.join(label_output_folder, output_file_name)\n",
    "        scaled_image.save(output_file_path)\n",
    "\n",
    "print(f\"Randomly scaled images have been saved in '{output_folder}'.\")"
   ]
  },
  {
   "cell_type": "code",
   "execution_count": 75,
   "metadata": {},
   "outputs": [
    {
     "ename": "NameError",
     "evalue": "name 'max_translation' is not defined",
     "output_type": "error",
     "traceback": [
      "\u001b[1;31m---------------------------------------------------------------------------\u001b[0m",
      "\u001b[1;31mNameError\u001b[0m                                 Traceback (most recent call last)",
      "Cell \u001b[1;32mIn[75], line 8\u001b[0m\n\u001b[0;32m      5\u001b[0m os\u001b[38;5;241m.\u001b[39mmakedirs(label_output_folder, exist_ok\u001b[38;5;241m=\u001b[39m\u001b[38;5;28;01mTrue\u001b[39;00m)\n\u001b[0;32m      7\u001b[0m \u001b[38;5;28;01mfor\u001b[39;00m idx, image \u001b[38;5;129;01min\u001b[39;00m \u001b[38;5;28menumerate\u001b[39m(images):\n\u001b[1;32m----> 8\u001b[0m     max_x, max_y \u001b[38;5;241m=\u001b[39m \u001b[43mmax_translation\u001b[49m\n\u001b[0;32m      9\u001b[0m     tx \u001b[38;5;241m=\u001b[39m random\u001b[38;5;241m.\u001b[39mrandint(\u001b[38;5;241m-\u001b[39mmax_x, max_x)  \u001b[38;5;66;03m# Random translation along x-axis\u001b[39;00m\n\u001b[0;32m     10\u001b[0m     ty \u001b[38;5;241m=\u001b[39m random\u001b[38;5;241m.\u001b[39mrandint(\u001b[38;5;241m-\u001b[39mmax_y, max_y)  \u001b[38;5;66;03m# Random translation along y-axis\u001b[39;00m\n",
      "\u001b[1;31mNameError\u001b[0m: name 'max_translation' is not defined"
     ]
    }
   ],
   "source": [
    "# Translate images (x or y direction)\n",
    "for label, images in images_by_label.items():\n",
    "    # Create a subdirectory for the label in the output folder\n",
    "    label_output_folder = os.path.join(output_folder, label)\n",
    "    os.makedirs(label_output_folder, exist_ok=True)\n",
    "\n",
    "    for idx, image in enumerate(images):\n",
    "        max_x, max_y = max_translation\n",
    "        tx = random.randint(-max_x, max_x)  # Random translation along x-axis\n",
    "        ty = random.randint(-max_y, max_y)  # Random translation along y-axis\n",
    "\n",
    "        # Create a translation matrix\n",
    "        translation_matrix = (1, 0, tx, 0, 1, ty)\n",
    "\n",
    "        # Apply the transformation\n",
    "        translated_image = image.transform(\n",
    "            image.size, Image.AFFINE, translation_matrix, resample=Image.Resampling.BICUBIC\n",
    "        )\n",
    "\n",
    "        output_file_name = f\"aug_tra_{idx}.jpg\"\n",
    "        output_file_path = os.path.join(label_output_folder, output_file_name)\n",
    "        translated_image.save(output_file_path)\n",
    "\n",
    "print(f\"Randomly translated images have been saved in '{output_folder}'.\")"
   ]
  },
  {
   "cell_type": "code",
   "execution_count": null,
   "metadata": {},
   "outputs": [],
   "source": [
    "# Color jittering\n",
    "for label, images in images_by_label.items():\n",
    "    # Create a subdirectory for the label in the output folder\n",
    "    label_output_folder = os.path.join(output_folder, label)\n",
    "    os.makedirs(label_output_folder, exist_ok=True)\n",
    "\n",
    "    # Augment and save each image\n",
    "    for idx, image in enumerate(images):\n",
    "        # Randomly adjust brightness\n",
    "        brightness_factor = random.uniform(*brightness_range)\n",
    "        color_jittered_image = ImageEnhance.Brightness(image).enhance(brightness_factor)\n",
    "\n",
    "        # Randomly adjust contrast\n",
    "        contrast_factor = random.uniform(*contrast_range)\n",
    "        color_jittered_image = ImageEnhance.Contrast(image).enhance(contrast_factor)\n",
    "\n",
    "        # Randomly adjust color (saturation)\n",
    "        color_factor = random.uniform(*color_range)\n",
    "        color_jittered_image = ImageEnhance.Color(image).enhance(color_factor)\n",
    "\n",
    "\n",
    "        # Save the augmented image\n",
    "        output_file_name = f\"aug_cji_{idx}.jpg\"\n",
    "        output_file_path = os.path.join(label_output_folder, output_file_name)\n",
    "        color_jittered_image.save(output_file_path)\n",
    "\n",
    "print(f\"Color-jittered images have been saved in '{output_folder}'.\")"
   ]
  },
  {
   "cell_type": "code",
   "execution_count": null,
   "metadata": {},
   "outputs": [],
   "source": [
    "# Adding noise\n",
    "for label, images in images_by_label.items():\n",
    "    # Create a subdirectory for the label in the output folder\n",
    "    label_output_folder = os.path.join(output_folder, label)\n",
    "    os.makedirs(label_output_folder, exist_ok=True)\n",
    "\n",
    "    for idx, image in enumerate(images):\n",
    "         # Convert image to NumPy array\n",
    "        image_array = np.array(image).astype(np.float32)\n",
    "\n",
    "        # Generate Gaussian noise\n",
    "        noise = np.random.normal(mean, sigma, image_array.shape)\n",
    "\n",
    "        # Add the noise and clip values to the valid range [0, 255]\n",
    "        noisy_image = np.clip(image_array + noise, 0, 255).astype(np.uint8)\n",
    "\n",
    "        noisy_image = Image.fromarray(noisy_image)\n",
    "\n",
    "        output_file_name = f\"aug_noi_{idx}.jpg\"\n",
    "        output_file_path = os.path.join(label_output_folder, output_file_name)\n",
    "        noisy_image.save(output_file_path)\n",
    "\n",
    "print(f\"Noisy images have been saved in '{output_folder}'.\")"
   ]
  }
 ],
 "metadata": {
  "kernelspec": {
   "display_name": "minor",
   "language": "python",
   "name": "python3"
  },
  "language_info": {
   "codemirror_mode": {
    "name": "ipython",
    "version": 3
   },
   "file_extension": ".py",
   "mimetype": "text/x-python",
   "name": "python",
   "nbconvert_exporter": "python",
   "pygments_lexer": "ipython3",
   "version": "3.12.7"
  }
 },
 "nbformat": 4,
 "nbformat_minor": 2
}
